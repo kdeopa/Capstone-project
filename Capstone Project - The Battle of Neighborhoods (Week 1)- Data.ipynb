{
 "cells": [
  {
   "cell_type": "markdown",
   "metadata": {},
   "source": [
    "## 2.\tData\n",
    "\n",
    "#### 2.1 Data Source\n",
    "\n",
    "The data we will use in this project will be gathered from a variety of online sources using web scraping techniques such as Beautiful Soup. \n",
    "\n",
    "The location information was found on this Wikipedia page. Its corresponding latitude and longitude were compiled manually using Nominatim. The top must-see newyork landmarks were found on the this <https://www.planetware.com/tourist-attractions-/new-york-city-us-ny-nyc.htm> website as well as from Google Search, compiled with its corresponding latitude and longitude were found using Nominatim.\n",
    "\n",
    "I will utilize a json file data < https://catalog.data.gov/harvest/nyc-json > to create a choropleth maps for population.which will also help in . understanding the places better.\n",
    "\n",
    "The venues data was found by using the Foursquare API.\n"
   ]
  },
  {
   "cell_type": "code",
   "execution_count": null,
   "metadata": {},
   "outputs": [],
   "source": []
  }
 ],
 "metadata": {
  "kernelspec": {
   "display_name": "Python 3",
   "language": "python",
   "name": "python3"
  },
  "language_info": {
   "codemirror_mode": {
    "name": "ipython",
    "version": 3
   },
   "file_extension": ".py",
   "mimetype": "text/x-python",
   "name": "python",
   "nbconvert_exporter": "python",
   "pygments_lexer": "ipython3",
   "version": "3.6.7"
  }
 },
 "nbformat": 4,
 "nbformat_minor": 2
}
