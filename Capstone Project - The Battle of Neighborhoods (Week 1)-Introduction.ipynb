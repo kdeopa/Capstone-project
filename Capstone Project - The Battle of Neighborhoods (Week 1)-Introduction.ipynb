{
 "cells": [
  {
   "cell_type": "markdown",
   "metadata": {},
   "source": [
    "## Capstone Project - The Battle of Neighborhoods (Week 1)"
   ]
  },
  {
   "cell_type": "markdown",
   "metadata": {},
   "source": [
    "# Introduction Section:"
   ]
  },
  {
   "attachments": {},
   "cell_type": "markdown",
   "metadata": {},
   "source": [
    "### Description of the Problem and Background\n",
    "\n",
    "#### 1.1\tBackground\n",
    "\n",
    "Newyork is one of the world’s most iconic cities. It is is the financial capital of the world. In addition to it's financial strongholdings , this city has many historical places and monuments. the architecture of these buildings and are phenomenal and every year millions of people visit newyork and city generates a good source of revenue.\n",
    "\n",
    "#### 1.2\tProblem\n",
    "\n",
    "Travelling to a big and crowded city like New York can be overwhelming and very tiresome. Utilizing an itinerary can maximize valuable time, prioritize must-do activities, and plan for easier and faster travel between attractions. This project aims to create an efficient itinerary that saves time, includes must-see attractions, and make suggestions for what to do, see, and eat, taking into account distance, time, and location. \n",
    "\n",
    "#### 1.3\tInterest\n",
    "\n",
    "Every year more than 60 million visitors visit newyork. This includes more than 20percent of international tourists. These visitors would be interested in the results of this project for their next visit to Newyork. Even the local people of newyork can find benefits for exploring their hometown with the results of our analysis using location data.\n"
   ]
  }
 ],
 "metadata": {
  "kernelspec": {
   "display_name": "Python 3",
   "language": "python",
   "name": "python3"
  },
  "language_info": {
   "codemirror_mode": {
    "name": "ipython",
    "version": 3
   },
   "file_extension": ".py",
   "mimetype": "text/x-python",
   "name": "python",
   "nbconvert_exporter": "python",
   "pygments_lexer": "ipython3",
   "version": "3.6.7"
  }
 },
 "nbformat": 4,
 "nbformat_minor": 2
}
